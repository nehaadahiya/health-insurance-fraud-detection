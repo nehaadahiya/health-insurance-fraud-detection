{
 "cells": [
  {
   "cell_type": "code",
   "execution_count": null,
   "id": "c5e1ecf9",
   "metadata": {
    "vscode": {
     "languageId": "plaintext"
    }
   },
   "outputs": [],
   "source": [
    "# main.ipynb\n",
    "\n",
    "# Purpose: End-to-end execution overview for the entire project\n",
    "# Includes ETL, feature engineering, model training, and evaluation summary\n",
    "\n",
    "# Import necessary scripts\n",
    "from scripts.etl_loader import run_etl\n",
    "from scripts.feature_engineering import load_and_engineer\n",
    "from scripts.model_utils import load_data, balance_data, train_models, evaluate_model\n",
    "from sklearn.model_selection import train_test_split\n",
    "import pandas as pd\n",
    "import matplotlib.pyplot as plt\n",
    "\n",
    "# Step 1: Run the ETL pipeline to merge and store data\n",
    "print(\"Running ETL pipeline...\")\n",
    "run_etl()\n",
    "\n",
    "# Step 2: Run feature engineering to create model-ready file\n",
    "print(\"Running feature engineering...\")\n",
    "df_model_ready = load_and_engineer()\n",
    "\n",
    "# Step 3: Load and prepare features and labels\n",
    "X, y = load_data(file_path='data/model_ready.csv', label_col='PotentialFraud')\n",
    "\n",
    "# Step 4: Balance dataset using SMOTE\n",
    "X_res, y_res = balance_data(X, y)\n",
    "\n",
    "# Step 5: Train-test split\n",
    "X_train, X_test, y_train, y_test = train_test_split(X_res, y_res, test_size=0.2, random_state=42)\n",
    "\n",
    "# Step 6: Train models\n",
    "print(\"Training models...\")\n",
    "models = train_models(X_train, y_train)\n",
    "\n",
    "# Step 7: Evaluate all models and store results\n",
    "summary_results = {}\n",
    "for name, model in models.items():\n",
    "    print(f\"\\nEvaluating {name}...\")\n",
    "    metrics = evaluate_model(model, X_test, y_test, model_name=name)\n",
    "    summary_results[name] = metrics\n",
    "\n",
    "# Step 8: Create and save evaluation summary\n",
    "summary_df = pd.DataFrame(summary_results).T\n",
    "summary_df = summary_df[['accuracy', 'precision', 'recall', 'f1', 'auc', 'specificity']]\n",
    "print(\"\\nFinal Model Comparison:\")\n",
    "display(summary_df)\n",
    "\n",
    "# Step 9: Save results and plot\n",
    "summary_df.to_csv(\"outputs/final_model_summary.csv\", index=True)\n",
    "\n",
    "summary_df[['accuracy', 'precision', 'recall', 'f1']].plot(kind='bar', figsize=(10, 6))\n",
    "plt.title(\"Final Model Comparison\")\n",
    "plt.ylabel(\"Score\")\n",
    "plt.xticks(rotation=45)\n",
    "plt.tight_layout()\n",
    "plt.savefig(\"outputs/final_model_comparison.png\")\n",
    "plt.show()\n",
    "\n",
    "print(\"End-to-end pipeline completed successfully.\")\n"
   ]
  }
 ],
 "metadata": {
  "language_info": {
   "name": "python"
  }
 },
 "nbformat": 4,
 "nbformat_minor": 5
}
