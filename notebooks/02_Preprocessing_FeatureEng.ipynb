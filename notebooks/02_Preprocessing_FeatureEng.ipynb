{
 "cells": [
  {
   "cell_type": "code",
   "execution_count": 1,
   "id": "6f1d61a2",
   "metadata": {},
   "outputs": [
    {
     "ename": "ModuleNotFoundError",
     "evalue": "No module named 'scripts'",
     "output_type": "error",
     "traceback": [
      "\u001b[0;31m---------------------------------------------------------------------------\u001b[0m",
      "\u001b[0;31mModuleNotFoundError\u001b[0m                       Traceback (most recent call last)",
      "Cell \u001b[0;32mIn[1], line 7\u001b[0m\n\u001b[1;32m      5\u001b[0m \u001b[38;5;28;01mimport\u001b[39;00m \u001b[38;5;21;01mmatplotlib\u001b[39;00m\u001b[38;5;21;01m.\u001b[39;00m\u001b[38;5;21;01mpyplot\u001b[39;00m \u001b[38;5;28;01mas\u001b[39;00m \u001b[38;5;21;01mplt\u001b[39;00m\n\u001b[1;32m      6\u001b[0m \u001b[38;5;28;01mimport\u001b[39;00m \u001b[38;5;21;01mseaborn\u001b[39;00m \u001b[38;5;28;01mas\u001b[39;00m \u001b[38;5;21;01msns\u001b[39;00m\n\u001b[0;32m----> 7\u001b[0m \u001b[38;5;28;01mfrom\u001b[39;00m \u001b[38;5;21;01mscripts\u001b[39;00m\u001b[38;5;21;01m.\u001b[39;00m\u001b[38;5;21;01mfeature_engineering\u001b[39;00m \u001b[38;5;28;01mimport\u001b[39;00m load_and_engineer\n\u001b[1;32m      9\u001b[0m \u001b[38;5;66;03m# 📁 Step 1: Run feature engineering pipeline\u001b[39;00m\n\u001b[1;32m     10\u001b[0m \u001b[38;5;28mprint\u001b[39m(\u001b[38;5;124m\"\u001b[39m\u001b[38;5;124mRunning feature engineering script...\u001b[39m\u001b[38;5;124m\"\u001b[39m)\n",
      "\u001b[0;31mModuleNotFoundError\u001b[0m: No module named 'scripts'"
     ]
    }
   ],
   "source": [
    "# 02_Preprocessing_FeatureEng.ipynb\n",
    "\n",
    "# 📦 Import required libraries\n",
    "import pandas as pd\n",
    "import matplotlib.pyplot as plt\n",
    "import seaborn as sns\n",
    "from scripts.feature_engineering import load_and_engineer\n",
    "\n",
    "# 📁 Step 1: Run feature engineering pipeline\n",
    "print(\"Running feature engineering script...\")\n",
    "df_fe = load_and_engineer()\n",
    "\n",
    "# ✅ Step 2: Preview processed dataset\n",
    "print(\"✅ Preview of feature-engineered dataset:\")\n",
    "display(df_fe.head())\n",
    "\n",
    "# ✅ Step 3: Check data types and nulls\n",
    "print(\"ℹ️ Dataset Info:\")\n",
    "display(df_fe.info())\n",
    "\n",
    "print(\"🔍 Missing Values:\")\n",
    "display(df_fe.isna().sum().sort_values(ascending=False))\n",
    "\n",
    "# ✅ Step 4: Summary statistics of engineered features\n",
    "print(\"📊 Feature Summary:\")\n",
    "display(df_fe.describe())\n",
    "\n",
    "# ✅ Step 5: Visualize correlations\n",
    "plt.figure(figsize=(12, 8))\n",
    "sns.heatmap(df_fe.corr(), cmap=\"coolwarm\", annot=False)\n",
    "plt.title(\"Feature Correlation Heatmap\")\n",
    "plt.tight_layout()\n",
    "plt.savefig(\"../outputs/feature_correlation_heatmap.png\")\n",
    "plt.show()\n",
    "\n",
    "# ✅ Step 6: Visualize Age and ChronicCount distributions\n",
    "fig, ax = plt.subplots(1, 2, figsize=(14, 5))\n",
    "\n",
    "sns.histplot(df_fe['Age'], kde=True, ax=ax[0], color='skyblue')\n",
    "ax[0].set_title(\"Age Distribution\")\n",
    "\n",
    "sns.countplot(x='ChronicCount', data=df_fe, ax=ax[1], palette=\"Set2\")\n",
    "ax[1].set_title(\"Chronic Condition Count\")\n",
    "\n",
    "plt.tight_layout()\n",
    "plt.savefig(\"../outputs/age_chronic_dist.png\")\n",
    "plt.show()\n",
    "\n",
    "print(\"✅ Feature Engineering Notebook Completed.\")\n"
   ]
  }
 ],
 "metadata": {
  "kernelspec": {
   "display_name": "base",
   "language": "python",
   "name": "python3"
  },
  "language_info": {
   "codemirror_mode": {
    "name": "ipython",
    "version": 3
   },
   "file_extension": ".py",
   "mimetype": "text/x-python",
   "name": "python",
   "nbconvert_exporter": "python",
   "pygments_lexer": "ipython3",
   "version": "3.11.7"
  }
 },
 "nbformat": 4,
 "nbformat_minor": 5
}
