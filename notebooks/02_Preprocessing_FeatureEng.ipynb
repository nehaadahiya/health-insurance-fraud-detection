{
 "cells": [
  {
   "cell_type": "code",
   "execution_count": null,
   "id": "6f1d61a2",
   "metadata": {
    "vscode": {
     "languageId": "plaintext"
    }
   },
   "outputs": [],
   "source": [
    "# 02_Preprocessing_FeatureEng.ipynb\n",
    "\n",
    "# 📦 Import required libraries\n",
    "import pandas as pd\n",
    "import matplotlib.pyplot as plt\n",
    "import seaborn as sns\n",
    "from scripts.feature_engineering import load_and_engineer\n",
    "\n",
    "# 📁 Step 1: Run feature engineering pipeline\n",
    "print(\"Running feature engineering script...\")\n",
    "df_fe = load_and_engineer()\n",
    "\n",
    "# ✅ Step 2: Preview processed dataset\n",
    "print(\"✅ Preview of feature-engineered dataset:\")\n",
    "display(df_fe.head())\n",
    "\n",
    "# ✅ Step 3: Check data types and nulls\n",
    "print(\"ℹ️ Dataset Info:\")\n",
    "display(df_fe.info())\n",
    "\n",
    "print(\"🔍 Missing Values:\")\n",
    "display(df_fe.isna().sum().sort_values(ascending=False))\n",
    "\n",
    "# ✅ Step 4: Summary statistics of engineered features\n",
    "print(\"📊 Feature Summary:\")\n",
    "display(df_fe.describe())\n",
    "\n",
    "# ✅ Step 5: Visualize correlations\n",
    "plt.figure(figsize=(12, 8))\n",
    "sns.heatmap(df_fe.corr(), cmap=\"coolwarm\", annot=False)\n",
    "plt.title(\"Feature Correlation Heatmap\")\n",
    "plt.tight_layout()\n",
    "plt.savefig(\"../outputs/feature_correlation_heatmap.png\")\n",
    "plt.show()\n",
    "\n",
    "# ✅ Step 6: Visualize Age and ChronicCount distributions\n",
    "fig, ax = plt.subplots(1, 2, figsize=(14, 5))\n",
    "\n",
    "sns.histplot(df_fe['Age'], kde=True, ax=ax[0], color='skyblue')\n",
    "ax[0].set_title(\"Age Distribution\")\n",
    "\n",
    "sns.countplot(x='ChronicCount', data=df_fe, ax=ax[1], palette=\"Set2\")\n",
    "ax[1].set_title(\"Chronic Condition Count\")\n",
    "\n",
    "plt.tight_layout()\n",
    "plt.savefig(\"../outputs/age_chronic_dist.png\")\n",
    "plt.show()\n",
    "\n",
    "print(\"✅ Feature Engineering Notebook Completed.\")\n"
   ]
  }
 ],
 "metadata": {
  "language_info": {
   "name": "python"
  }
 },
 "nbformat": 4,
 "nbformat_minor": 5
}
