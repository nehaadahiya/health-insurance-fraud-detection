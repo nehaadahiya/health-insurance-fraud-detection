{
 "cells": [
  {
   "cell_type": "code",
   "execution_count": null,
   "id": "5a7664d5",
   "metadata": {
    "vscode": {
     "languageId": "plaintext"
    }
   },
   "outputs": [],
   "source": [
    "# 04_Anomaly_Detection.ipynb\n",
    "\n",
    "\n",
    "import pandas as pd\n",
    "from sklearn.ensemble import IsolationForest\n",
    "from sklearn.svm import OneClassSVM\n",
    "from sklearn.preprocessing import StandardScaler\n",
    "from sklearn.metrics import confusion_matrix, classification_report\n",
    "# Load model-ready dataset\n",
    "df = pd.read_csv('../data/model_ready.csv')\n",
    "\n",
    "# Label column\n",
    "label_col = 'PotentialFraud'\n",
    "\n",
    "# Ensure numeric label\n",
    "df[label_col] = df[label_col].astype('category').cat.codes\n",
    "\n",
    "X = df.drop(columns=[label_col])\n",
    "y = df[label_col]\n",
    "\n",
    "# Standardize features\n",
    "scaler = StandardScaler()\n",
    "X_scaled = scaler.fit_transform(X)\n",
    "\n",
    "# Isolation Forest\n",
    "iso_model = IsolationForest(contamination=0.1, random_state=42)\n",
    "iso_preds = iso_model.fit_predict(X_scaled)\n",
    "iso_preds = [1 if p == -1 else 0 for p in iso_preds]\n",
    "\n",
    "print(\"Isolation Forest Results:\")\n",
    "print(confusion_matrix(y, iso_preds))\n",
    "print(classification_report(y, iso_preds))\n",
    "\n",
    "# One-Class SVM\n",
    "svm_model = OneClassSVM(kernel='rbf', gamma=0.1, nu=0.1)\n",
    "svm_preds = svm_model.fit_predict(X_scaled)\n",
    "svm_preds = [1 if p == -1 else 0 for p in svm_preds]\n",
    "\n",
    "print(\"One-Class SVM Results:\")\n",
    "print(confusion_matrix(y, svm_preds))\n",
    "print(classification_report(y, svm_preds))"
   ]
  }
 ],
 "metadata": {
  "language_info": {
   "name": "python"
  }
 },
 "nbformat": 4,
 "nbformat_minor": 5
}
