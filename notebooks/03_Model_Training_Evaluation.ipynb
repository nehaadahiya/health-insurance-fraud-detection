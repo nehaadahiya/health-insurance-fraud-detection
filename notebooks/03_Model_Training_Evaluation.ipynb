{
 "cells": [
  {
   "cell_type": "code",
   "execution_count": null,
   "id": "3533e284",
   "metadata": {
    "vscode": {
     "languageId": "plaintext"
    }
   },
   "outputs": [],
   "source": [
    "# 03_Model_Training_Evaluation.ipynb\n",
    "\n",
    "# Import required libraries\n",
    "import pandas as pd\n",
    "import matplotlib.pyplot as plt\n",
    "import seaborn as sns\n",
    "from scripts.model_utils import load_data, balance_data, train_models, evaluate_model\n",
    "from sklearn.model_selection import train_test_split\n",
    "\n",
    "# Step 1: Load and prepare model-ready data\n",
    "X, y = load_data(file_path='../data/model_ready.csv', label_col='PotentialFraud')\n",
    "\n",
    "# Step 2: Handle class imbalance using SMOTE\n",
    "X_res, y_res = balance_data(X, y)\n",
    "\n",
    "# Step 3: Train-test split\n",
    "X_train, X_test, y_train, y_test = train_test_split(X_res, y_res, test_size=0.2, random_state=42)\n",
    "\n",
    "# Step 4: Train models\n",
    "models = train_models(X_train, y_train)\n",
    "\n",
    "# Step 5: Evaluate models and collect results\n",
    "all_scores = {}\n",
    "for model_name, model in models.items():\n",
    "    print(f\"\\n{'='*40}\")\n",
    "    print(f\"Evaluating: {model_name}\")\n",
    "    results = evaluate_model(model, X_test, y_test, model_name=model_name)\n",
    "    all_scores[model_name] = results\n",
    "\n",
    "# Step 6: Create a summary DataFrame\n",
    "summary_df = pd.DataFrame(all_scores).T\n",
    "summary_df = summary_df[['accuracy', 'precision', 'recall', 'f1', 'auc', 'specificity']]\n",
    "print(\"\\nModel Evaluation Summary:\")\n",
    "display(summary_df)\n",
    "\n",
    "# Step 7: Save summary to outputs\n",
    "summary_df.to_csv(\"../outputs/model_evaluation_summary.csv\", index=True)\n",
    "\n",
    "# Step 8: Visualize the comparison\n",
    "plt.figure(figsize=(10, 6))\n",
    "summary_df[['accuracy', 'precision', 'recall', 'f1']].plot(kind='bar')\n",
    "plt.title(\"Model Performance Comparison\")\n",
    "plt.ylabel(\"Score\")\n",
    "plt.xticks(rotation=45)\n",
    "plt.tight_layout()\n",
    "plt.savefig(\"../outputs/model_performance_comparison.png\")\n",
    "plt.show()\n",
    "\n",
    "print(\"Model training and evaluation completed.\")\n"
   ]
  }
 ],
 "metadata": {
  "language_info": {
   "name": "python"
  }
 },
 "nbformat": 4,
 "nbformat_minor": 5
}
